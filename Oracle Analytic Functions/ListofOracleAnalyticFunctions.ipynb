{
 "cells": [
  {
   "cell_type": "markdown",
   "metadata": {},
   "source": [
    "# 1. RANK"
   ]
  },
  {
   "cell_type": "markdown",
   "metadata": {},
   "source": [
    "It is an analytical function that is used to calculate the rank of a value in an ordered set of values. One important point that makes it different from DENSE_RANK is that the ranks from this function may not be consecutive numbers."
   ]
  },
  {
   "cell_type": "markdown",
   "metadata": {},
   "source": [
    "# ![title](RANK.png)"
   ]
  },
  {
   "cell_type": "markdown",
   "metadata": {},
   "source": [
    "# 2. DENSE_RANK"
   ]
  },
  {
   "cell_type": "markdown",
   "metadata": {},
   "source": [
    "It is a type of analytic function that calculates the rank of a row. Unlike the RANK function this function returns rank as consecutive integers."
   ]
  },
  {
   "cell_type": "code",
   "execution_count": null,
   "metadata": {},
   "outputs": [],
   "source": [
    "SELECT\n",
    "DNAME,\n",
    "DENSE_RANK () OVER (\n",
    "ORDER BY DNAME)\n",
    "DEPT_RANK\n",
    "FROM EMP\n",
    "inner join DEPT on EMP.DEPTNO=DEPT.DEPTNO;"
   ]
  },
  {
   "cell_type": "markdown",
   "metadata": {},
   "source": [
    "# ![title](DENSE_RANK.png)"
   ]
  },
  {
   "cell_type": "markdown",
   "metadata": {},
   "source": [
    "# 3. ROW_NUMBER"
   ]
  },
  {
   "cell_type": "markdown",
   "metadata": {},
   "source": [
    "It is an analytical function and unlike NTILE this function assigns a unique sequential number to each row of the result set."
   ]
  },
  {
   "cell_type": "code",
   "execution_count": null,
   "metadata": {},
   "outputs": [],
   "source": [
    "SELECT\n",
    "ROW_NUMBER() OVER(\n",
    "ORDER BY empno \n",
    ") row_number,\n",
    "empno,\n",
    "ename,\n",
    "job\n",
    "FROM\n",
    "EMP;"
   ]
  },
  {
   "cell_type": "markdown",
   "metadata": {},
   "source": [
    "# ![title](ROW_NUMBER.png)"
   ]
  },
  {
   "cell_type": "markdown",
   "metadata": {},
   "source": [
    "# 4. CUME_DIST"
   ]
  },
  {
   "cell_type": "markdown",
   "metadata": {},
   "source": [
    "It is also an analytical function that is as the name suggests used to calculate the cumulative distribution of a certain value among a set of values."
   ]
  },
  {
   "cell_type": "code",
   "execution_count": null,
   "metadata": {},
   "outputs": [],
   "source": [
    "SELECT\n",
    "empno,\n",
    "ename,\n",
    "sal,\n",
    "ROUND(cume_dist() OVER (ORDER BY sal) * 100,2) || '%' cumulative_dist\n",
    "FROM\n",
    "EMP;"
   ]
  },
  {
   "cell_type": "markdown",
   "metadata": {},
   "source": [
    "# ![title](CUME_DIST.png)"
   ]
  },
  {
   "cell_type": "markdown",
   "metadata": {},
   "source": [
    "# 5. PERCENT_RANK"
   ]
  },
  {
   "cell_type": "markdown",
   "metadata": {},
   "source": [
    "It is an analytical function that as the name suggests is used to calculate a percentage rank for a value among an ordered set of values."
   ]
  },
  {
   "cell_type": "code",
   "execution_count": null,
   "metadata": {},
   "outputs": [],
   "source": [
    "SELECT\n",
    "empno,\n",
    "ename,\n",
    "sal,\n",
    "ROUND(PERCENT_RANK() OVER (ORDER BY sal) * 100,2) || '%' cumulative_dist\n",
    "FROM\n",
    "EMP;"
   ]
  },
  {
   "cell_type": "markdown",
   "metadata": {},
   "source": [
    "# ![title](PERCENT_RANK.png)"
   ]
  }
 ],
 "metadata": {
  "kernelspec": {
   "display_name": "Python 3.10.0 64-bit",
   "language": "python",
   "name": "python3"
  },
  "language_info": {
   "codemirror_mode": {
    "name": "ipython",
    "version": 3
   },
   "file_extension": ".py",
   "mimetype": "text/x-python",
   "name": "python",
   "nbconvert_exporter": "python",
   "pygments_lexer": "ipython3",
   "version": "3.10.0"
  },
  "orig_nbformat": 4,
  "vscode": {
   "interpreter": {
    "hash": "098d4ae462b099566864436519a9c9678baa8bfc74b82c824d77bdbc5ca2f000"
   }
  }
 },
 "nbformat": 4,
 "nbformat_minor": 2
}

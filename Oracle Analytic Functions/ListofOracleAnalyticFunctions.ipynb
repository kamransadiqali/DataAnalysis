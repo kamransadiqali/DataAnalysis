{
 "cells": [
  {
   "cell_type": "markdown",
   "metadata": {},
   "source": [
    "# 1. DENSE_RANK"
   ]
  },
  {
   "cell_type": "markdown",
   "metadata": {},
   "source": [
    "It is a type of analytic function that calculates the rank of a row. Unlike the RANK function this function returns rank as consecutive integers."
   ]
  },
  {
   "cell_type": "code",
   "execution_count": null,
   "metadata": {},
   "outputs": [],
   "source": [
    "SELECT\n",
    "DNAME,\n",
    "DENSE_RANK () OVER (\n",
    "ORDER BY DNAME)\n",
    "DEPT_RANK\n",
    "FROM EMP\n",
    "inner join DEPT on EMP.DEPTNO=DEPT.DEPTNO;"
   ]
  },
  {
   "cell_type": "markdown",
   "metadata": {},
   "source": [
    "# ![title](DENSE_RANK.png)"
   ]
  }
 ],
 "metadata": {
  "kernelspec": {
   "display_name": "Python 3.10.0 64-bit",
   "language": "python",
   "name": "python3"
  },
  "language_info": {
   "codemirror_mode": {
    "name": "ipython",
    "version": 3
   },
   "file_extension": ".py",
   "mimetype": "text/x-python",
   "name": "python",
   "nbconvert_exporter": "python",
   "pygments_lexer": "ipython3",
   "version": "3.10.0"
  },
  "orig_nbformat": 4,
  "vscode": {
   "interpreter": {
    "hash": "098d4ae462b099566864436519a9c9678baa8bfc74b82c824d77bdbc5ca2f000"
   }
  }
 },
 "nbformat": 4,
 "nbformat_minor": 2
}

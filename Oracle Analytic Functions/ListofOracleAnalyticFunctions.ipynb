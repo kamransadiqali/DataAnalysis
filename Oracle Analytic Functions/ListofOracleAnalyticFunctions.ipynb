{
 "cells": [
  {
   "cell_type": "markdown",
   "metadata": {},
   "source": [
    "# Oracle Analytic Functions"
   ]
  },
  {
   "cell_type": "markdown",
   "metadata": {},
   "source": [
    "Analytical functions are used to do ‘analyze’ data over multiple rows and return the result in the current row. E.g Analytical functions can be used to find out running totals, ranking the rows, do some aggregation on the previous or forthcoming row etc. Though the same functionality can be achieved by using standard aggregate functions and native SQL using joins and subqueries, analytical functions make it much simpler and faster."
   ]
  },
  {
   "cell_type": "markdown",
   "metadata": {},
   "source": [
    "# Difference between Analytical Functions and Aggregate Functions"
   ]
  },
  {
   "cell_type": "markdown",
   "metadata": {},
   "source": [
    "_Aggregate functions group the rows and return the output for the entire result set. However, analytical functions return the aggregated output but they do not group the result set. They return the value for each row in the result set._"
   ]
  },
  {
   "cell_type": "code",
   "execution_count": null,
   "metadata": {},
   "outputs": [],
   "source": [
    "SELECT deptno,COUNT(*) dept_cnt\n",
    "FROM emp\n",
    "GROUP BY deptno;"
   ]
  },
  {
   "cell_type": "markdown",
   "metadata": {},
   "source": [
    "# ![title](aggregate_function.png)"
   ]
  },
  {
   "cell_type": "code",
   "execution_count": null,
   "metadata": {},
   "outputs": [],
   "source": [
    "SELECT deptno, \n",
    "COUNT(*) OVER (PARTITION BY \n",
    "deptno) DEPT_COUNT\n",
    "FROM emp"
   ]
  },
  {
   "cell_type": "markdown",
   "metadata": {},
   "source": [
    "# ![title](analytical_function.png)"
   ]
  },
  {
   "cell_type": "markdown",
   "metadata": {},
   "source": [
    "# SYNTAX\n",
    "Function(arg1,…, argn) OVER ( [PARTITION BY <…>] [ORDER BY <….>] [<window_clause>] )\n",
    "\n",
    "**OVER:**\n",
    "\n",
    "The scope of an analytical function is defined in an OVER clause. OVER is compulsory for all analytical functions. If you do not give any arguments after OVER, it will assume the scope as ALL.\n",
    "\n",
    "**PARTITION BY:**\n",
    "\n",
    "As the aggregate functions use GROUP BY to group rows, analytical functions use PARTITION BY.\n",
    "\n",
    "**ORDER BY:**\n",
    "\n",
    "It is used to specify the order of records in the selected partition. This is different from the ORDER BY clause of the main query which comes after WHERE.\n",
    "\n",
    "**Window Clause:**\n",
    "\n",
    "The partition clause is not the only method of limiting the scope of an analytical function. We can use “ROWS BETWEEN” or “RANGE BETWEEN” clause to define an additional scope. "
   ]
  },
  {
   "cell_type": "markdown",
   "metadata": {},
   "source": [
    "# Top 11 Oracle Analytic Functions"
   ]
  },
  {
   "cell_type": "markdown",
   "metadata": {},
   "source": [
    "# 1. RANK"
   ]
  },
  {
   "cell_type": "markdown",
   "metadata": {},
   "source": []
  },
  {
   "cell_type": "markdown",
   "metadata": {},
   "source": [
    "It is an analytical function that is used to calculate the rank of a value in an ordered set of values. One important point that makes it different from DENSE_RANK is that the ranks from this function may not be consecutive numbers."
   ]
  },
  {
   "cell_type": "markdown",
   "metadata": {},
   "source": [
    "# ![title](RANK.png)"
   ]
  },
  {
   "cell_type": "markdown",
   "metadata": {},
   "source": [
    "# 2. DENSE_RANK"
   ]
  },
  {
   "cell_type": "markdown",
   "metadata": {},
   "source": [
    "It is a type of analytic function that calculates the rank of a row. Unlike the RANK function this function returns rank as consecutive integers."
   ]
  },
  {
   "cell_type": "code",
   "execution_count": null,
   "metadata": {},
   "outputs": [],
   "source": [
    "SELECT\n",
    "DNAME,\n",
    "DENSE_RANK () OVER (\n",
    "ORDER BY DNAME)\n",
    "DEPT_RANK\n",
    "FROM EMP\n",
    "inner join DEPT on EMP.DEPTNO=DEPT.DEPTNO;"
   ]
  },
  {
   "cell_type": "markdown",
   "metadata": {},
   "source": [
    "# ![title](DENSE_RANK.png)"
   ]
  },
  {
   "cell_type": "markdown",
   "metadata": {},
   "source": [
    "# 3. ROW_NUMBER"
   ]
  },
  {
   "cell_type": "markdown",
   "metadata": {},
   "source": [
    "It is an analytical function and unlike NTILE this function assigns a unique sequential number to each row of the result set."
   ]
  },
  {
   "cell_type": "code",
   "execution_count": null,
   "metadata": {},
   "outputs": [],
   "source": [
    "SELECT\n",
    "ROW_NUMBER() OVER(\n",
    "ORDER BY empno \n",
    ") row_number,\n",
    "empno,\n",
    "ename,\n",
    "job\n",
    "FROM\n",
    "EMP;"
   ]
  },
  {
   "cell_type": "markdown",
   "metadata": {},
   "source": [
    "# ![title](ROW_NUMBER.png)"
   ]
  },
  {
   "cell_type": "markdown",
   "metadata": {},
   "source": [
    "# 4. CUME_DIST"
   ]
  },
  {
   "cell_type": "markdown",
   "metadata": {},
   "source": [
    "It is also an analytical function that is as the name suggests used to calculate the cumulative distribution of a certain value among a set of values."
   ]
  },
  {
   "cell_type": "code",
   "execution_count": null,
   "metadata": {},
   "outputs": [],
   "source": [
    "SELECT\n",
    "empno,\n",
    "ename,\n",
    "sal,\n",
    "ROUND(cume_dist() OVER (ORDER BY sal) * 100,2) || '%' cumulative_dist\n",
    "FROM\n",
    "EMP;"
   ]
  },
  {
   "cell_type": "markdown",
   "metadata": {},
   "source": [
    "# ![title](CUME_DIST.png)"
   ]
  },
  {
   "cell_type": "markdown",
   "metadata": {},
   "source": [
    "# 5. PERCENT_RANK"
   ]
  },
  {
   "cell_type": "markdown",
   "metadata": {},
   "source": [
    "It is an analytical function that as the name suggests is used to calculate a percentage rank for a value among an ordered set of values."
   ]
  },
  {
   "cell_type": "code",
   "execution_count": null,
   "metadata": {},
   "outputs": [],
   "source": [
    "SELECT\n",
    "empno,\n",
    "ename,\n",
    "sal,\n",
    "ROUND(PERCENT_RANK() OVER (ORDER BY sal) * 100,2) || '%' percent_rank\n",
    "FROM\n",
    "EMP;"
   ]
  },
  {
   "cell_type": "markdown",
   "metadata": {},
   "source": [
    "# ![title](PERCENT_RANK.png)"
   ]
  },
  {
   "cell_type": "markdown",
   "metadata": {},
   "source": [
    "# 6. FIRST_VALUE"
   ]
  },
  {
   "cell_type": "markdown",
   "metadata": {},
   "source": [
    "It is an analytic function as the name suggests is used to provide the value of the first row in an ordered set of rows."
   ]
  },
  {
   "cell_type": "code",
   "execution_count": null,
   "metadata": {},
   "outputs": [],
   "source": [
    "select empno ,\n",
    "ename,\n",
    "sal,\n",
    "DNAME,\n",
    "FIRST_VALUE(sal)\n",
    "OVER(PARTITION BY DNAME\n",
    "ORDER BY sal\n",
    ")FIRST_VALUE\n",
    "from EMP\n",
    "inner join DEPT on EMP.DEPTNO=DEPT.DEPTNO;"
   ]
  },
  {
   "cell_type": "markdown",
   "metadata": {},
   "source": [
    "# ![title](FIRST_VALUE.png)"
   ]
  },
  {
   "cell_type": "markdown",
   "metadata": {},
   "source": [
    "# 7. LAST_VALUE"
   ]
  },
  {
   "cell_type": "markdown",
   "metadata": {},
   "source": [
    "It is also an analytical function which is used to get the value of the last row in an ordered set of rows."
   ]
  },
  {
   "cell_type": "code",
   "execution_count": null,
   "metadata": {},
   "outputs": [],
   "source": [
    "select empno ,\n",
    "ename,\n",
    "sal,\n",
    "DNAME,\n",
    "LAST_VALUE(sal)\n",
    "OVER(PARTITION BY DNAME\n",
    "ORDER BY sal\n",
    "RANGE BETWEEN UNBOUNDED PRECEDING AND\n",
    "UNBOUNDED FOLLOWING)LAST_VALUE\n",
    "from EMP\n",
    "inner join DEPT on EMP.DEPTNO=DEPT.DEPTNO;"
   ]
  },
  {
   "cell_type": "markdown",
   "metadata": {},
   "source": [
    "# ![title](LAST_VALUE.png)"
   ]
  },
  {
   "cell_type": "markdown",
   "metadata": {},
   "source": [
    "# 8. LEAD"
   ]
  },
  {
   "cell_type": "markdown",
   "metadata": {},
   "source": [
    "It is a type of analytic function that allows us to access a following row from the current row based on an offset value without using self join."
   ]
  },
  {
   "cell_type": "code",
   "execution_count": null,
   "metadata": {},
   "outputs": [],
   "source": [
    "SELECT\n",
    "empno ,\n",
    "ename,\n",
    "sal,\n",
    "DNAME,\n",
    "LEAD(sal) OVER (\n",
    "ORDER BY empno\n",
    ") following_employee_age\n",
    "FROM\n",
    "EMP\n",
    "inner join DEPT on EMP.DEPTNO=DEPT.DEPTNO\n",
    "WHERE\n",
    "DNAME = 'SALES';"
   ]
  },
  {
   "cell_type": "markdown",
   "metadata": {},
   "source": [
    "# ![title](LEAD.png)"
   ]
  },
  {
   "cell_type": "markdown",
   "metadata": {},
   "source": [
    "# 9. LAG"
   ]
  },
  {
   "cell_type": "markdown",
   "metadata": {},
   "source": [
    "It is a type of analytic function that allows us to access a prior row from the current row based on an offset value without using self join."
   ]
  },
  {
   "cell_type": "code",
   "execution_count": null,
   "metadata": {},
   "outputs": [],
   "source": [
    "SELECT\n",
    "empno ,\n",
    "ename,\n",
    "sal,\n",
    "DNAME,\n",
    "LAG(sal) OVER (\n",
    "ORDER BY empno\n",
    ") LAG\n",
    "FROM\n",
    "EMP\n",
    "inner join DEPT on EMP.DEPTNO=DEPT.DEPTNO\n",
    "WHERE\n",
    "DNAME = 'SALES';"
   ]
  },
  {
   "cell_type": "markdown",
   "metadata": {},
   "source": [
    "# ![title](LAG.png)"
   ]
  },
  {
   "cell_type": "markdown",
   "metadata": {},
   "source": [
    "# 10. Nth Value"
   ]
  },
  {
   "cell_type": "markdown",
   "metadata": {},
   "source": [
    "It is an analytic function and as the name suggests that it returns the Nth value among set of values."
   ]
  },
  {
   "cell_type": "code",
   "execution_count": null,
   "metadata": {},
   "outputs": [],
   "source": [
    "SELECT\n",
    "empno ,\n",
    "ename,\n",
    "sal,\n",
    "DNAME,\n",
    "NTH_VALUE(sal,2) OVER (\n",
    "PARTITION BY DNAME\n",
    "ORDER BY sal DESC\n",
    "RANGE BETWEEN\n",
    "UNBOUNDED PRECEDING AND\n",
    "UNBOUNDED FOLLOWING\n",
    ") AS NTH_VALUE\n",
    "FROM\n",
    "EMP\n",
    "inner join DEPT on EMP.DEPTNO=DEPT.DEPTNO"
   ]
  },
  {
   "cell_type": "markdown",
   "metadata": {},
   "source": [
    "# ![title](NTH_VALUE.png)"
   ]
  },
  {
   "cell_type": "markdown",
   "metadata": {},
   "source": [
    "# 11. NTILE"
   ]
  },
  {
   "cell_type": "markdown",
   "metadata": {},
   "source": [
    "It is an analytical function that divides an ordered set into buckets and assigns a bucket number to each row."
   ]
  },
  {
   "cell_type": "code",
   "execution_count": null,
   "metadata": {},
   "outputs": [],
   "source": [
    "SELECT\n",
    "empno ,\n",
    "ename,\n",
    "sal,\n",
    "DNAME,\n",
    "NTILE(4) OVER(\n",
    "ORDER BY sal DESC\n",
    ") NTILE\n",
    "FROM\n",
    "EMP\n",
    "inner join DEPT on EMP.DEPTNO=DEPT.DEPTNO"
   ]
  },
  {
   "cell_type": "markdown",
   "metadata": {},
   "source": [
    "# ![title](NTILE.png)"
   ]
  }
 ],
 "metadata": {
  "kernelspec": {
   "display_name": "Python 3.10.0 64-bit",
   "language": "python",
   "name": "python3"
  },
  "language_info": {
   "codemirror_mode": {
    "name": "ipython",
    "version": 3
   },
   "file_extension": ".py",
   "mimetype": "text/x-python",
   "name": "python",
   "nbconvert_exporter": "python",
   "pygments_lexer": "ipython3",
   "version": "3.10.0"
  },
  "orig_nbformat": 4,
  "vscode": {
   "interpreter": {
    "hash": "098d4ae462b099566864436519a9c9678baa8bfc74b82c824d77bdbc5ca2f000"
   }
  }
 },
 "nbformat": 4,
 "nbformat_minor": 2
}

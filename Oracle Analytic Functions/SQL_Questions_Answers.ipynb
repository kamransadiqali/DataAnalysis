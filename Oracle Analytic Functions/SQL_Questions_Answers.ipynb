{
 "cells": [
  {
   "cell_type": "markdown",
   "metadata": {},
   "source": [
    "**Q1.    Write SQL query to get the second highest salary among all Employees?**"
   ]
  },
  {
   "cell_type": "code",
   "execution_count": null,
   "metadata": {},
   "outputs": [],
   "source": [
    "SELECT MAX(Salary)\n",
    "FROM HR.EMPLOYEES\n",
    "WHERE Salary NOT IN (SELECT MAX(Salary) FROM HR.EMPLOYEES)\n",
    "\n",
    "select MAX(Salary) from HR.EMPLOYEES\n",
    "WHERE Salary <> (select MAX(Salary) from HR.EMPLOYEES)\n",
    "\n",
    "SELECT Employee_Id, \n",
    "       first_Name, \n",
    "       Salary \n",
    "FROM(\n",
    "   SELECT HR.EMPLOYEES.*, \n",
    "          DENSE_RANK() OVER(ORDER BY Salary DESC) as SALARY_RANK \n",
    "   FROM HR.EMPLOYEES)\n",
    "WHERE SALARY_RANK =2"
   ]
  },
  {
   "cell_type": "markdown",
   "metadata": {},
   "source": [
    "**Q2.    How can we retrieve alternate records from a table in Oracle?**\n",
    "\n",
    "We can use rownum and MOD function to retrieve the alternate records from a table.\n",
    "\n",
    "To get Even number records:"
   ]
  },
  {
   "cell_type": "code",
   "execution_count": null,
   "metadata": {},
   "outputs": [],
   "source": [
    "SELECT * FROM (\n",
    "SELECT EMP.*,\n",
    "rownum rnum\n",
    "FROM HR.EMPLOYEES EMP\n",
    ") WHERE MOD(rnum, 2) = 0"
   ]
  },
  {
   "cell_type": "markdown",
   "metadata": {},
   "source": [
    "To get Odd number records:"
   ]
  },
  {
   "cell_type": "code",
   "execution_count": null,
   "metadata": {},
   "outputs": [],
   "source": [
    "SELECT * FROM (\n",
    "SELECT EMP.*,\n",
    "rownum rnum\n",
    "FROM HR.EMPLOYEES EMP\n",
    ") WHERE MOD(rnum, 2) = 1"
   ]
  },
  {
   "cell_type": "markdown",
   "metadata": {},
   "source": [
    "**Q3.    Write a SQL Query to find Max salary and Department name from each department.**"
   ]
  },
  {
   "cell_type": "code",
   "execution_count": null,
   "metadata": {},
   "outputs": [],
   "source": [
    "SELECT d.DEPARTMENT_NAME, MAX(nvl(e.Salary,0))\n",
    "FROM HR.DEPARTMENTS d LEFT OUTER JOIN HR.EMPLOYEES e\n",
    "ON e.DEPARTMENT_ID = d.DEPARTMENT_ID \n",
    "GROUP BY DEPARTMENT_NAME \n",
    "HAVING MAX(e.Salary)>0"
   ]
  },
  {
   "cell_type": "markdown",
   "metadata": {},
   "source": [
    "**Q4.    Write a SQL query to find records in Table A that are not in Table B without using NOT IN operator.**"
   ]
  },
  {
   "cell_type": "code",
   "execution_count": null,
   "metadata": {},
   "outputs": [],
   "source": [
    "SELECT * FROM Table_A\n",
    "MINUS\n",
    "SELECT * FROM Table_B"
   ]
  },
  {
   "cell_type": "markdown",
   "metadata": {},
   "source": [
    "**Q5.    Write SQL Query to find employees that have same name and email.**"
   ]
  },
  {
   "cell_type": "code",
   "execution_count": null,
   "metadata": {},
   "outputs": [],
   "source": [
    "SELECT FIRST_NAME, JOB_ID, COUNT(*)\n",
    "FROM HR.EMPLOYEES\n",
    "GROUP BY FIRST_NAME, JOB_ID\n",
    "HAVING COUNT(*) > 1"
   ]
  },
  {
   "cell_type": "markdown",
   "metadata": {},
   "source": [
    "**Q6.  Write SQL query to get the nth record among all Employees.**"
   ]
  },
  {
   "cell_type": "code",
   "execution_count": null,
   "metadata": {},
   "outputs": [],
   "source": [
    "SELECT * FROM (\n",
    "SELECT EMP.*,\n",
    "rownum rnum\n",
    "FROM HR.EMPLOYEES EMP\n",
    ") WHERE rnum = 9"
   ]
  },
  {
   "cell_type": "markdown",
   "metadata": {},
   "source": [
    "**Q7.    Write a Query to get Unique names of products without using DISTINCT keyword.**"
   ]
  },
  {
   "cell_type": "code",
   "execution_count": null,
   "metadata": {},
   "outputs": [],
   "source": [
    "select distinct JOB_ID FROM HR.EMPLOYEES\n",
    "\n",
    "select JOB_ID FROM HR.EMPLOYEES group by JOB_ID"
   ]
  },
  {
   "cell_type": "markdown",
   "metadata": {},
   "source": [
    "**Q8.    Write a SQL query to maximum Zipcode from a table without using MAX or MIN aggregate functions.**"
   ]
  },
  {
   "cell_type": "code",
   "execution_count": null,
   "metadata": {},
   "outputs": [],
   "source": [
    "SELECT DISTINCT SALARY\n",
    "FROM HR.EMPLOYEES EMP \n",
    "WHERE SALARY NOT IN (\n",
    "SELECT Smaller_salary.SALARY\n",
    "FROM HR.EMPLOYEES Larger_salary\n",
    "inner JOIN HR.EMPLOYEES Smaller_salary\n",
    "ON Smaller_salary.SALARY < Larger_salary.SALARY\n",
    ")"
   ]
  },
  {
   "cell_type": "markdown",
   "metadata": {},
   "source": [
    "**Q9.    Given a list of employee names and email. Write a query to print a comma separated list of employee names in a email.**"
   ]
  },
  {
   "cell_type": "code",
   "execution_count": null,
   "metadata": {},
   "outputs": [],
   "source": [
    "SELECT FIRST_NAME, LISTAGG(EMAIL, ',') WITHIN GROUP (ORDER BY EMAIL) EMAIL\n",
    "FROM   HR.EMPLOYEES\n",
    "GROUP BY FIRST_NAME"
   ]
  },
  {
   "cell_type": "markdown",
   "metadata": {},
   "source": [
    "**Q10.    Given an Employee table with Manager_ID as column, print First name, Manager ID and Level of employees in Organization Structure?**"
   ]
  },
  {
   "cell_type": "code",
   "execution_count": null,
   "metadata": {},
   "outputs": [],
   "source": [
    "SELECT FIRST_NAME, EMPLOYEE_ID, MANAGER_ID, LEVEL\n",
    "FROM HR.EMPLOYEES\n",
    "START WITH EMPLOYEE_ID = 100\n",
    "CONNECT BY PRIOR EMPLOYEE_ID = MANAGER_ID;"
   ]
  },
  {
   "cell_type": "markdown",
   "metadata": {},
   "source": [
    "**Q11. Write a query to get the first and last record from a table?**"
   ]
  },
  {
   "cell_type": "code",
   "execution_count": null,
   "metadata": {},
   "outputs": [],
   "source": [
    "select * from HR.EMPLOYEES where Rownum =1\n",
    "\n",
    "select * from HR.EMPLOYEES where RowID = (select min(RowID) from HR.EMPLOYEES);\n",
    "\n",
    "select * from HR.EMPLOYEES where RowID = (select max(RowID) from HR.EMPLOYEES);"
   ]
  },
  {
   "cell_type": "markdown",
   "metadata": {},
   "source": [
    "**Q12. Write a query to display the first ten records from a table.**"
   ]
  },
  {
   "cell_type": "code",
   "execution_count": null,
   "metadata": {},
   "outputs": [],
   "source": [
    "select * from HR.EMPLOYEES where Rownum <=10"
   ]
  },
  {
   "cell_type": "markdown",
   "metadata": {},
   "source": [
    "**Q13. Create a table with the same structure with data as in the Student table.**"
   ]
  },
  {
   "cell_type": "code",
   "execution_count": null,
   "metadata": {},
   "outputs": [],
   "source": [
    "Create table HR.EMPLOYEES2 as Select * from HR.EMPLOYEES;"
   ]
  },
  {
   "cell_type": "markdown",
   "metadata": {},
   "source": [
    "**Q14. Show only common records between two tables.**"
   ]
  },
  {
   "cell_type": "code",
   "execution_count": null,
   "metadata": {},
   "outputs": [],
   "source": [
    "Select * from HR.EMPLOYEES;\n",
    "Intersect\n",
    "Select * from HR.EMPLOYEES2;"
   ]
  },
  {
   "cell_type": "markdown",
   "metadata": {},
   "source": [
    "**Q15. How to find the employee with third MAX Salary using a SQL query without using Analytic Functions?**"
   ]
  },
  {
   "cell_type": "code",
   "execution_count": null,
   "metadata": {},
   "outputs": [],
   "source": [
    "SELECT MAX(salary) as salary FROM HR.EMPLOYEES WHERE salary NOT IN (\n",
    "    SELECT salary FROM(\n",
    "    SELECT salary FROM HR.EMPLOYEES ORDER BY salary DESC)\n",
    "    WHERE ROWNUM < 3);"
   ]
  },
  {
   "cell_type": "markdown",
   "metadata": {},
   "source": [
    "**Q16. How to read LAST 5 records from a table using a SQL query?**"
   ]
  },
  {
   "cell_type": "code",
   "execution_count": null,
   "metadata": {},
   "outputs": [],
   "source": [
    "SELECT * FROM HR.EMPLOYEES\n",
    "MINUS\n",
    "SELECT * FROM HR.EMPLOYEES WHERE ROWNUM <= (SELECT COUNT(*)-5 FROM HR.EMPLOYEES);"
   ]
  },
  {
   "cell_type": "markdown",
   "metadata": {},
   "source": [
    "**Q17. How to read TOP 5 records from a table using a SQL query?**"
   ]
  },
  {
   "cell_type": "code",
   "execution_count": null,
   "metadata": {},
   "outputs": [],
   "source": [
    "SELECT * FROM HR.EMPLOYEES WHERE ROWNUM <= 5;"
   ]
  },
  {
   "cell_type": "markdown",
   "metadata": {},
   "source": [
    "**Q18. How to delete DUPLICATE records from a table using a SQL Query?**"
   ]
  },
  {
   "cell_type": "code",
   "execution_count": null,
   "metadata": {},
   "outputs": [],
   "source": [
    "SELECT * FROM( \n",
    "SELECT ROWID,\n",
    "       EMPLOYEE_ID,\n",
    "       FIRST_NAME,SALARY,\n",
    "       ROW_NUMBER() OVER(PARTITION BY FIRST_NAME  ORDER BY EMPLOYEE_ID) AS ROW_NUMBER \n",
    "FROM HR.EMPLOYEES EMP\n",
    ")WHERE ROW_NUMBER > 1;"
   ]
  }
 ],
 "metadata": {
  "language_info": {
   "name": "python"
  },
  "orig_nbformat": 4
 },
 "nbformat": 4,
 "nbformat_minor": 2
}

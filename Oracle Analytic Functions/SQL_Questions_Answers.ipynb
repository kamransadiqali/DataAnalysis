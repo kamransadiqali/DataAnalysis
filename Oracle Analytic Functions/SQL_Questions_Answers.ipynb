{
 "cells": [
  {
   "cell_type": "markdown",
   "metadata": {},
   "source": [
    "**Q1.    Write SQL query to get the second highest salary among all Employees?**"
   ]
  },
  {
   "cell_type": "code",
   "execution_count": null,
   "metadata": {},
   "outputs": [],
   "source": [
    "SELECT MAX(Salary)\n",
    "FROM HR.EMPLOYEES\n",
    "WHERE Salary NOT IN (SELECT MAX(Salary) FROM HR.EMPLOYEES)\n",
    "\n",
    "select MAX(Salary) from HR.EMPLOYEES\n",
    "WHERE Salary <> (select MAX(Salary) from HR.EMPLOYEES)\n",
    "\n",
    "SELECT Employee_Id, \n",
    "       first_Name, \n",
    "       Salary \n",
    "FROM(\n",
    "   SELECT HR.EMPLOYEES.*, \n",
    "          DENSE_RANK() OVER(ORDER BY Salary DESC) as SALARY_RANK \n",
    "   FROM HR.EMPLOYEES)\n",
    "WHERE SALARY_RANK =2"
   ]
  },
  {
   "cell_type": "markdown",
   "metadata": {},
   "source": [
    "**Q2.    How can we retrieve alternate records from a table in Oracle?**\n",
    "\n",
    "We can use rownum and MOD function to retrieve the alternate records from a table.\n",
    "\n",
    "To get Even number records:"
   ]
  },
  {
   "cell_type": "code",
   "execution_count": null,
   "metadata": {},
   "outputs": [],
   "source": [
    "SELECT * FROM (\n",
    "SELECT EMP.*,\n",
    "rownum rnum\n",
    "FROM HR.EMPLOYEES EMP\n",
    ") WHERE MOD(rnum, 2) = 0"
   ]
  },
  {
   "cell_type": "markdown",
   "metadata": {},
   "source": [
    "To get Odd number records:"
   ]
  },
  {
   "cell_type": "code",
   "execution_count": null,
   "metadata": {},
   "outputs": [],
   "source": [
    "SELECT * FROM (\n",
    "SELECT EMP.*,\n",
    "rownum rnum\n",
    "FROM HR.EMPLOYEES EMP\n",
    ") WHERE MOD(rnum, 2) = 1"
   ]
  },
  {
   "cell_type": "markdown",
   "metadata": {},
   "source": [
    "**Q3.    Write a SQL Query to find Max salary and Department name from each department.**"
   ]
  },
  {
   "cell_type": "code",
   "execution_count": null,
   "metadata": {},
   "outputs": [],
   "source": [
    "SELECT d.DEPARTMENT_NAME, MAX(nvl(e.Salary,0))\n",
    "FROM HR.DEPARTMENTS d LEFT OUTER JOIN HR.EMPLOYEES e\n",
    "ON e.DEPARTMENT_ID = d.DEPARTMENT_ID \n",
    "GROUP BY DEPARTMENT_NAME \n",
    "HAVING MAX(e.Salary)>0"
   ]
  },
  {
   "cell_type": "markdown",
   "metadata": {},
   "source": [
    "**Q4.    Write a SQL query to find records in Table A that are not in Table B without using NOT IN operator.**"
   ]
  },
  {
   "cell_type": "code",
   "execution_count": null,
   "metadata": {},
   "outputs": [],
   "source": [
    "SELECT * FROM Table_A\n",
    "MINUS\n",
    "SELECT * FROM Table_B"
   ]
  },
  {
   "cell_type": "markdown",
   "metadata": {},
   "source": [
    "**Q5.    Write SQL Query to find employees that have same name and email.**"
   ]
  },
  {
   "cell_type": "code",
   "execution_count": null,
   "metadata": {},
   "outputs": [],
   "source": [
    "SELECT FIRST_NAME, JOB_ID, COUNT(*)\n",
    "FROM HR.EMPLOYEES\n",
    "GROUP BY FIRST_NAME, JOB_ID\n",
    "HAVING COUNT(*) > 1"
   ]
  },
  {
   "cell_type": "markdown",
   "metadata": {},
   "source": [
    "**Q6.  Write SQL query to get the nth record among all Employees.**"
   ]
  },
  {
   "cell_type": "code",
   "execution_count": null,
   "metadata": {},
   "outputs": [],
   "source": [
    "SELECT * FROM (\n",
    "SELECT EMP.*,\n",
    "rownum rnum\n",
    "FROM HR.EMPLOYEES EMP\n",
    ") WHERE rnum = 9"
   ]
  },
  {
   "cell_type": "markdown",
   "metadata": {},
   "source": [
    "**Q7.    Write a Query to get Unique names of products without using DISTINCT keyword.**"
   ]
  },
  {
   "cell_type": "code",
   "execution_count": null,
   "metadata": {},
   "outputs": [],
   "source": [
    "select distinct JOB_ID FROM HR.EMPLOYEES\n",
    "\n",
    "select JOB_ID FROM HR.EMPLOYEES group by JOB_ID"
   ]
  },
  {
   "cell_type": "markdown",
   "metadata": {},
   "source": [
    "**Q8.    Write a SQL query to maximum Zipcode from a table without using MAX or MIN aggregate functions.**"
   ]
  },
  {
   "cell_type": "code",
   "execution_count": null,
   "metadata": {},
   "outputs": [],
   "source": [
    "SELECT DISTINCT SALARY\n",
    "FROM HR.EMPLOYEES EMP \n",
    "WHERE SALARY NOT IN (\n",
    "SELECT Smaller_salary.SALARY\n",
    "FROM HR.EMPLOYEES Larger_salary\n",
    "inner JOIN HR.EMPLOYEES Smaller_salary\n",
    "ON Smaller_salary.SALARY < Larger_salary.SALARY\n",
    ")"
   ]
  },
  {
   "cell_type": "markdown",
   "metadata": {},
   "source": [
    "**Q9.    Given a list of employee names and email. Write a query to print a comma separated list of employee names in a email.**"
   ]
  },
  {
   "cell_type": "code",
   "execution_count": null,
   "metadata": {},
   "outputs": [],
   "source": [
    "SELECT FIRST_NAME, LISTAGG(EMAIL, ',') WITHIN GROUP (ORDER BY EMAIL) EMAIL\n",
    "FROM   HR.EMPLOYEES\n",
    "GROUP BY FIRST_NAME"
   ]
  },
  {
   "cell_type": "markdown",
   "metadata": {},
   "source": [
    "**Q10.    Given an Employee table with Manager_ID as column, print First name, Manager ID and Level of employees in Organization Structure?**"
   ]
  },
  {
   "cell_type": "code",
   "execution_count": null,
   "metadata": {},
   "outputs": [],
   "source": [
    "SELECT FIRST_NAME, EMPLOYEE_ID, MANAGER_ID, LEVEL\n",
    "FROM HR.EMPLOYEES\n",
    "START WITH EMPLOYEE_ID = 100\n",
    "CONNECT BY PRIOR EMPLOYEE_ID = MANAGER_ID;"
   ]
  },
  {
   "cell_type": "markdown",
   "metadata": {},
   "source": [
    "**Q11. Write a query to get the first and last record from a table?**"
   ]
  },
  {
   "cell_type": "code",
   "execution_count": null,
   "metadata": {},
   "outputs": [],
   "source": [
    "select * from HR.EMPLOYEES where Rownum =1\n",
    "\n",
    "select * from HR.EMPLOYEES where RowID = (select min(RowID) from HR.EMPLOYEES);\n",
    "\n",
    "select * from HR.EMPLOYEES where RowID = (select max(RowID) from HR.EMPLOYEES);"
   ]
  },
  {
   "cell_type": "markdown",
   "metadata": {},
   "source": [
    "**Q12. Write a query to display the first ten records from a table.**"
   ]
  },
  {
   "cell_type": "code",
   "execution_count": null,
   "metadata": {},
   "outputs": [],
   "source": [
    "select * from HR.EMPLOYEES where Rownum <=10"
   ]
  },
  {
   "cell_type": "markdown",
   "metadata": {},
   "source": [
    "**Q13. Create a table with the same structure with data as in the Student table.**"
   ]
  },
  {
   "cell_type": "code",
   "execution_count": null,
   "metadata": {},
   "outputs": [],
   "source": [
    "Create table HR.EMPLOYEES2 as Select * from HR.EMPLOYEES;"
   ]
  },
  {
   "cell_type": "markdown",
   "metadata": {},
   "source": [
    "**Q14. Show only common records between two tables.**"
   ]
  },
  {
   "cell_type": "code",
   "execution_count": null,
   "metadata": {},
   "outputs": [],
   "source": [
    "Select * from HR.EMPLOYEES;\n",
    "Intersect\n",
    "Select * from HR.EMPLOYEES2;"
   ]
  },
  {
   "cell_type": "markdown",
   "metadata": {},
   "source": [
    "**Q15. How to find the employee with third MAX Salary using a SQL query without using Analytic Functions?**"
   ]
  },
  {
   "cell_type": "code",
   "execution_count": null,
   "metadata": {},
   "outputs": [],
   "source": [
    "SELECT MAX(salary) as salary FROM HR.EMPLOYEES WHERE salary NOT IN (\n",
    "    SELECT salary FROM(\n",
    "    SELECT salary FROM HR.EMPLOYEES ORDER BY salary DESC)\n",
    "    WHERE ROWNUM < 3);"
   ]
  },
  {
   "cell_type": "markdown",
   "metadata": {},
   "source": [
    "**Q16. How to read LAST 5 records from a table using a SQL query?**"
   ]
  },
  {
   "cell_type": "code",
   "execution_count": null,
   "metadata": {},
   "outputs": [],
   "source": [
    "SELECT * FROM HR.EMPLOYEES\n",
    "MINUS\n",
    "SELECT * FROM HR.EMPLOYEES WHERE ROWNUM <= (SELECT COUNT(*)-5 FROM HR.EMPLOYEES);"
   ]
  },
  {
   "cell_type": "markdown",
   "metadata": {},
   "source": [
    "**Q17. How to read TOP 5 records from a table using a SQL query?**"
   ]
  },
  {
   "cell_type": "code",
   "execution_count": null,
   "metadata": {},
   "outputs": [],
   "source": [
    "SELECT * FROM HR.EMPLOYEES WHERE ROWNUM <= 5;"
   ]
  },
  {
   "cell_type": "markdown",
   "metadata": {},
   "source": [
    "**Q18. How to delete DUPLICATE records from a table using a SQL Query?**"
   ]
  },
  {
   "cell_type": "code",
   "execution_count": null,
   "metadata": {},
   "outputs": [],
   "source": [
    "SELECT * FROM( \n",
    "SELECT ROWID,\n",
    "       EMPLOYEE_ID,\n",
    "       FIRST_NAME,SALARY,\n",
    "       ROW_NUMBER() OVER(PARTITION BY FIRST_NAME  ORDER BY EMPLOYEE_ID) AS ROW_NUMBER \n",
    "FROM HR.EMPLOYEES EMP\n",
    ")WHERE ROW_NUMBER > 1;"
   ]
  },
  {
   "cell_type": "markdown",
   "metadata": {},
   "source": [
    "**Q19. Write a SQL Query to get the Quarter from date.**"
   ]
  },
  {
   "cell_type": "code",
   "execution_count": null,
   "metadata": {},
   "outputs": [],
   "source": [
    "SELECT TO_CHAR(TO_DATE('10/31/2022', 'MM/DD/YYYY'), 'Q')\n",
    "AS quarter\n",
    "FROM DUAL"
   ]
  },
  {
   "cell_type": "markdown",
   "metadata": {},
   "source": [
    "**Q20. Write a query to create an empty table from an existing table?**"
   ]
  },
  {
   "cell_type": "code",
   "execution_count": null,
   "metadata": {},
   "outputs": [],
   "source": [
    "CREATE TABLE HR.EMPLOYEES EMP_TEST AS\n",
    "SELECT * from HR.EMPLOYEES EMP\n",
    "WHERE 1 > 2;"
   ]
  },
  {
   "cell_type": "markdown",
   "metadata": {},
   "source": [
    "**Q21. What does UNION do? What is the difference between UNION and UNION ALL?**"
   ]
  },
  {
   "cell_type": "markdown",
   "metadata": {},
   "source": [
    "UNION merges the contents of two structurally-compatible tables into a single combined table. The difference between UNION and UNION ALL is that UNION will omit duplicate records whereas UNION ALL will include duplicate records.\n",
    "\n",
    "It is important to note that the performance of UNION ALL will typically be better than UNION, since UNION requires the server to do the additional work of removing any duplicates. So, in cases where is is certain that there will not be any duplicates, or where having duplicates is not a problem, use of UNION ALL would be recommended for performance reasons."
   ]
  },
  {
   "cell_type": "markdown",
   "metadata": {},
   "source": [
    "**Q22. Given the following tables:**"
   ]
  },
  {
   "cell_type": "markdown",
   "metadata": {},
   "source": [
    "sql> SELECT * FROM runners;\n",
    "+----+--------------+\n",
    "| id | name         |\n",
    "+----+--------------+\n",
    "|  1 | John Doe     |\n",
    "|  2 | Jane Doe     |\n",
    "|  3 | Alice Jones  |\n",
    "|  4 | Bobby Louis  |\n",
    "|  5 | Lisa Romero  |\n",
    "+----+--------------+\n",
    "\n",
    "sql> SELECT * FROM races;\n",
    "+----+----------------+-----------+\n",
    "| id | event          | winner_id |\n",
    "+----+----------------+-----------+\n",
    "|  1 | 100 meter dash |  2        |\n",
    "|  2 | 500 meter dash |  3        |\n",
    "|  3 | cross-country  |  2        |\n",
    "|  4 | triathalon     |  NULL     |\n",
    "+----+----------------+-----------+"
   ]
  },
  {
   "cell_type": "markdown",
   "metadata": {},
   "source": [
    "What will be the result of the query below?"
   ]
  },
  {
   "cell_type": "code",
   "execution_count": null,
   "metadata": {},
   "outputs": [],
   "source": [
    "SELECT * FROM runners WHERE id NOT IN (SELECT winner_id FROM races)"
   ]
  },
  {
   "cell_type": "markdown",
   "metadata": {},
   "source": [
    "Surprisingly, given the sample data provided, the result of this query will be an empty set. The reason for this is as follows: If the set being evaluated by the SQL NOT IN condition contains any values that are null, then the outer query here will return an empty set, even if there are many runner ids that match winner_ids in the races table.\n",
    "\n",
    "Knowing this, a query that avoids this issue would be as follows:"
   ]
  },
  {
   "cell_type": "code",
   "execution_count": null,
   "metadata": {},
   "outputs": [],
   "source": [
    "SELECT * FROM runners WHERE id NOT IN (SELECT winner_id FROM races WHERE winner_id IS NOT null)"
   ]
  },
  {
   "cell_type": "markdown",
   "metadata": {},
   "source": [
    "**Q23. Assume a schema of Emp ( Id, Name, DeptId ) , Dept ( Id, Name).**\n",
    "\n",
    "**If there are 10 records in the Emp table and 5 records in the Dept table, how many rows will be displayed in the result of the following SQL query:**"
   ]
  },
  {
   "cell_type": "code",
   "execution_count": null,
   "metadata": {},
   "outputs": [],
   "source": [
    "Select * From Emp, Dept"
   ]
  },
  {
   "cell_type": "markdown",
   "metadata": {},
   "source": [
    "The query will result in 50 rows as a “cartesian product” or “cross join”, which is the default whenever the ‘where’ clause is omitted."
   ]
  },
  {
   "cell_type": "markdown",
   "metadata": {},
   "source": [
    "**Q24. Write a SQL query using UNION ALL (not UNION) that uses the WHERE clause to eliminate duplicates. Why might you want to do this?**"
   ]
  },
  {
   "cell_type": "markdown",
   "metadata": {},
   "source": [
    "You can avoid duplicates using UNION ALL and still run much faster than UNION DISTINCT (which is actually same as UNION) by running a query like this:\n",
    "\n",
    "SELECT * FROM mytable WHERE a=X UNION ALL SELECT * FROM mytable WHERE b=Y AND a!=X\n",
    "\n",
    "The key is the AND a!=X part. This gives you the benefits of the UNION (a.k.a., UNION DISTINCT) command, while avoiding much of its performance hit."
   ]
  },
  {
   "cell_type": "markdown",
   "metadata": {},
   "source": [
    "**Q25. List and explain each of the ACID properties that collectively guarantee that database transactions are processed reliably.**"
   ]
  },
  {
   "cell_type": "markdown",
   "metadata": {},
   "source": [
    "**ACID (Atomicity, Consistency, Isolation, Durability)** is a set of properties that guarantee that database transactions are processed reliably. They are defined as follows:\n",
    "\n",
    "**Atomicity**. Atomicity requires that each transaction be “all or nothing”: if one part of the transaction fails, the entire transaction fails, and the database state is left unchanged. An atomic system must guarantee atomicity in each and every situation, including power failures, errors, and crashes.\n",
    "\n",
    "**Consistency**. The consistency property ensures that any transaction will bring the database from one valid state to another. Any data written to the database must be valid according to all defined rules, including constraints, cascades, triggers, and any combination thereof.\n",
    "\n",
    "**Isolation**. The isolation property ensures that the concurrent execution of transactions results in a system state that would be obtained if transactions were executed serially, i.e., one after the other. Providing isolation is the main goal of concurrency control. Depending on concurrency control method (i.e. if it uses strict - as opposed to relaxed - serializability), the effects of an incomplete transaction might not even be visible to another transaction.\n",
    "\n",
    "**Durability**. Durability means that once a transaction has been committed, it will remain so, even in the event of power loss, crashes, or errors. In a relational database, for instance, once a group of SQL statements execute, the results need to be stored permanently (even if the database crashes immediately thereafter). To defend against power loss, transactions (or their effects) must be recorded in a non-volatile memory."
   ]
  },
  {
   "cell_type": "markdown",
   "metadata": {},
   "source": [
    "**Q26. What will be the output of the below query, given an Employee table having 10 records?**"
   ]
  },
  {
   "cell_type": "code",
   "execution_count": null,
   "metadata": {},
   "outputs": [],
   "source": [
    "BEGIN TRAN\n",
    "TRUNCATE TABLE Employees\n",
    "ROLLBACK\n",
    "SELECT * FROM Employees"
   ]
  },
  {
   "cell_type": "markdown",
   "metadata": {},
   "source": [
    "This query will return 10 records as TRUNCATE was executed in the transaction. TRUNCATE does not itself keep a log but BEGIN TRANSACTION keeps track of the TRUNCATE command."
   ]
  },
  {
   "cell_type": "markdown",
   "metadata": {},
   "source": [
    "**Q27. What is the difference between single-row functions and multiple-row functions?**\n",
    "\n",
    "**What is the group by clause used for?**"
   ]
  },
  {
   "cell_type": "markdown",
   "metadata": {},
   "source": [
    "Single-row functions work with single row at a time. Multiple-row functions work with data of multiple rows at a time.\n",
    "\n",
    "The group by clause combines all those records that have identical values in a particular field or any group of fields."
   ]
  },
  {
   "cell_type": "markdown",
   "metadata": {},
   "source": [
    "**Q28. Imagine a single column in a table that is populated with either a single digit (0-9) or a single character (a-z, A-Z). Write a SQL query to print ‘Fizz’ for a numeric value or ‘Buzz’ for alphabetical value for all values in that column.**\n",
    "\n",
    "Example:\n",
    "\n",
    "['d', 'x', 'T', 8, 'a', 9, 6, 2, 'V']\n",
    "\n",
    "…should output:\n",
    "\n",
    "['Buzz', 'Buzz', 'Buzz', 'Fizz', 'Buzz','Fizz', 'Fizz', 'Fizz', 'Buzz']"
   ]
  },
  {
   "cell_type": "code",
   "execution_count": null,
   "metadata": {},
   "outputs": [],
   "source": [
    "SELECT col, case when upper(col) = lower(col) then 'Fizz' else 'Buzz' end as FizzBuzz from table;"
   ]
  },
  {
   "cell_type": "markdown",
   "metadata": {},
   "source": [
    "**Q29. Write an SQL query to display the text CAPONE as:**\n",
    "\n",
    "C\n",
    "\n",
    "A\n",
    "\n",
    "P\n",
    "\n",
    "O\n",
    "\n",
    "N\n",
    "\n",
    "E "
   ]
  },
  {
   "cell_type": "code",
   "execution_count": null,
   "metadata": {},
   "outputs": [],
   "source": [
    "SELECT SUBSTR('CAPONE', LEVEL, 1)\n",
    "FROM DUAL CONNECT BY LEVEL <= LENGTH('CAPONE');"
   ]
  },
  {
   "cell_type": "markdown",
   "metadata": {},
   "source": [
    "**Q30. Given this table:**\n",
    "\n",
    "Select * FROM Test;\n",
    "\n",
    "ID\n",
    "\n",
    "1\n",
    "\n",
    "2\n",
    "\n",
    "3\n",
    "\n",
    "4\n",
    "\n",
    "5\n",
    "(5 rows)"
   ]
  },
  {
   "cell_type": "markdown",
   "metadata": {},
   "source": [
    "**What will be the output of below snippet?**\n",
    "\n",
    "Select SUM(1) FROM Test;\n",
    "\n",
    "Select SUM(2) FROM Test;\n",
    "\n",
    "Select SUM(3) FROM Test;"
   ]
  },
  {
   "cell_type": "markdown",
   "metadata": {},
   "source": [
    "5\n",
    "\n",
    "10\n",
    "\n",
    "15"
   ]
  },
  {
   "cell_type": "markdown",
   "metadata": {},
   "source": [
    "**Q31. Table is as follows:**\n",
    "\n",
    "ID\tC1\tC2\tC3\n",
    "\n",
    "1\tRed\tYellow\tBlue\n",
    "\n",
    "2\tNULL\tRed\tGreen\n",
    "\n",
    "3\tYellow\tNULL\tViolet\n",
    "\n",
    "**Print the rows which have ‘Yellow’ in one of the columns C1, C2, or C3, but without using OR**"
   ]
  },
  {
   "cell_type": "code",
   "execution_count": null,
   "metadata": {},
   "outputs": [],
   "source": [
    "SELECT * FROM table\n",
    "WHERE 'Yellow' IN (C1, C2, C3)"
   ]
  },
  {
   "cell_type": "markdown",
   "metadata": {},
   "source": [
    "**Q32. Write a query to insert/update Col2’s values to look exactly opposite to Col1’s values.**\n",
    "\n",
    "Col1\tCol2\n",
    "\n",
    "1       0\n",
    "\n",
    "0\t    1\n",
    "\n",
    "0\t    1\n",
    "\n",
    "0\t    1\n",
    "\n",
    "1\t    0\n",
    "\n",
    "0\t    1\n",
    "\n",
    "1\t    0\n",
    "\n",
    "1\t    0"
   ]
  },
  {
   "cell_type": "code",
   "execution_count": null,
   "metadata": {},
   "outputs": [],
   "source": [
    "update table set col2 = case when col1 = 1 then 0 else 1 end"
   ]
  },
  {
   "cell_type": "markdown",
   "metadata": {},
   "source": [
    "**Q33. How do you get the last id without the max function?**"
   ]
  },
  {
   "cell_type": "code",
   "execution_count": null,
   "metadata": {},
   "outputs": [],
   "source": [
    "select * from hr.test where id <= all(select id from hr.test)\n",
    "\n",
    "select * from hr.test where id >= all(select id from hr.test)"
   ]
  },
  {
   "cell_type": "markdown",
   "metadata": {},
   "source": [
    "**Q34. What is the difference between IN and EXISTS?**"
   ]
  },
  {
   "cell_type": "markdown",
   "metadata": {},
   "source": [
    "**IN:**\n",
    "\n",
    "Works on List result set\n",
    "\n",
    "Doesn’t work on subqueries resulting in Virtual tables with multiple columns\n",
    "\n",
    "Compares every value in the result list\n",
    "\n",
    "Performance is comparatively SLOW for larger resultset of subquery\n",
    "\n",
    "**EXISTS:**\n",
    "\n",
    "Works on Virtual tables\n",
    "\n",
    "Is used with co-related queries\n",
    "\n",
    "Exits comparison when match is found\n",
    "\n",
    "Performance is comparatively FAST for larger resultset of subquery"
   ]
  },
  {
   "cell_type": "markdown",
   "metadata": {},
   "source": [
    "**Q35. Given the following table named A:**\n",
    "  \n",
    "  **x**\n",
    "\n",
    "  2\n",
    "\n",
    " -2\n",
    "\n",
    "  4\n",
    "\n",
    " -4\n",
    "\n",
    " -3    \n",
    "\n",
    "  0\n",
    "  \n",
    "  2\n",
    "  \n",
    "  **Write a single query to calculate the sum of all positive values of x and he sum of all negative values of x**"
   ]
  },
  {
   "cell_type": "code",
   "execution_count": null,
   "metadata": {},
   "outputs": [],
   "source": [
    "select sum(case when x>0 then x else 0 end)sum_pos,sum(case when x<0 then x else 0 end)sum_neg from a;"
   ]
  },
  {
   "cell_type": "markdown",
   "metadata": {},
   "source": [
    "**Q36. Given the table mass_table:**\n",
    "\n",
    "**weight**\n",
    "\n",
    "5.67\n",
    "\n",
    "34.567\n",
    "\n",
    "365.253\n",
    "\n",
    "34\n",
    "\n",
    "**Write a query that produces the output:**\n",
    "\n",
    "**weight\tkg\tgms**\n",
    "\n",
    "5.67\t5\t67\n",
    "\n",
    "34.567\t34\t567\n",
    "\n",
    "365.253\t365\t253\n",
    "\n",
    "34\t34\t0"
   ]
  },
  {
   "cell_type": "code",
   "execution_count": null,
   "metadata": {},
   "outputs": [],
   "source": [
    "select weight, trunc(weight) as kg, nvl(substr(weight - trunc(weight), 2), 0) as gms\n",
    "from mass_table;"
   ]
  },
  {
   "cell_type": "markdown",
   "metadata": {},
   "source": [
    "**Q37. Consider the Employee table below.**\n",
    "\n",
    "**Emp_Id\tEmp_name\tSalary\tManager_Id**\n",
    "\n",
    "10\tAnil\t50000\t18\n",
    "\n",
    "11\tVikas\t75000\t16\n",
    "\n",
    "12\tNisha\t40000\t18\n",
    "\n",
    "13\tNidhi\t60000\t17\n",
    "\n",
    "14\tPriya\t80000\t18\n",
    "\n",
    "15\tMohit\t45000\t18\n",
    "\n",
    "16\tRajesh\t90000\t–\n",
    "\n",
    "17\tRaman\t55000\t16\n",
    "\n",
    "18\tSantosh\t65000\t17\n",
    "\n",
    "**Write a query to generate below output:**\n",
    "\n",
    "**Manager_Id\tManager\tAverage_Salary_Under_Manager**\n",
    "\n",
    "16\tRajesh\t65000\n",
    "\n",
    "17\tRaman\t62500\n",
    "\n",
    "18\tSantosh\t53750"
   ]
  },
  {
   "cell_type": "code",
   "execution_count": null,
   "metadata": {},
   "outputs": [],
   "source": [
    "select b.emp_id as \"Manager_Id\",\n",
    "          b.emp_name as \"Manager\", \n",
    "          avg(a.salary) as \"Average_Salary_Under_Manager\"\n",
    "from Employee a, \n",
    "     Employee b\n",
    "where a.manager_id = b.emp_id\n",
    "group by b.emp_id, b.emp_name\n",
    "order by b.emp_id;"
   ]
  },
  {
   "cell_type": "markdown",
   "metadata": {},
   "source": [
    "**Q38. Given a table TBL with a field Nmbr that has rows with the following values:**\n",
    "\n",
    "1, 0, 0, 1, 1, 1, 1, 0, 0, 1, 0, 1, 0, 1, 0, 1\n",
    "\n",
    "**Write a query to add 2 where Nmbr is 0 and add 3 where Nmbr is 1.**"
   ]
  },
  {
   "cell_type": "code",
   "execution_count": null,
   "metadata": {},
   "outputs": [],
   "source": [
    "update TBL set Nmbr = case when Nmbr = 0 then Nmbr+2 else Nmbr+3 end;"
   ]
  },
  {
   "cell_type": "markdown",
   "metadata": {},
   "source": [
    "**Q39. How to find a duplicate record?**\n",
    "\n",
    "duplicate records with one field\n",
    "\n",
    "duplicate records with more than one field"
   ]
  },
  {
   "cell_type": "code",
   "execution_count": null,
   "metadata": {},
   "outputs": [],
   "source": [
    "duplicate records with one field\n",
    "\n",
    " SELECT name, COUNT(email) \n",
    " FROM users\n",
    " GROUP BY email\n",
    " HAVING COUNT(email) > 1 \n",
    " \n",
    "duplicate records with more than one field\n",
    "\n",
    " SELECT name, email, COUNT(*)\n",
    " FROM users\n",
    " GROUP BY name, email\n",
    " HAVING COUNT(*) > 1"
   ]
  },
  {
   "cell_type": "markdown",
   "metadata": {},
   "source": [
    "**Q40. What is the difference between char and varchar2?**"
   ]
  },
  {
   "cell_type": "markdown",
   "metadata": {},
   "source": [
    "When stored in a database, varchar2 uses only the allocated space. E.g. if you have a varchar2(1999) and put 50 bytes in the table, it will use 52 bytes.\n",
    "\n",
    "But when stored in a database, char always uses the maximum length and is blank-padded. E.g. if you have char(1999) and put 50 bytes in the table, it will consume 2000 bytes."
   ]
  }
 ],
 "metadata": {
  "kernelspec": {
   "display_name": "Python 3.10.0 64-bit",
   "language": "python",
   "name": "python3"
  },
  "language_info": {
   "codemirror_mode": {
    "name": "ipython",
    "version": 3
   },
   "file_extension": ".py",
   "mimetype": "text/x-python",
   "name": "python",
   "nbconvert_exporter": "python",
   "pygments_lexer": "ipython3",
   "version": "3.10.0"
  },
  "orig_nbformat": 4,
  "vscode": {
   "interpreter": {
    "hash": "098d4ae462b099566864436519a9c9678baa8bfc74b82c824d77bdbc5ca2f000"
   }
  }
 },
 "nbformat": 4,
 "nbformat_minor": 2
}
